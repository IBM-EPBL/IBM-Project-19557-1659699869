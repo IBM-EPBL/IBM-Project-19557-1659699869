{
  "cells": [
    {
      "cell_type": "markdown",
      "id": "9c0e9356",
      "metadata": {
        "id": "9c0e9356"
      },
      "source": [
        "# Import necessary libraries"
      ]
    },
    {
      "cell_type": "code",
      "execution_count": 1,
      "id": "87072a85",
      "metadata": {
        "id": "87072a85"
      },
      "outputs": [],
      "source": [
        "%matplotlib inline\n",
        "\n",
        "import numpy as np\n",
        "import pandas as pd\n",
        "import matplotlib.pyplot as plt\n",
        "import seaborn as sns\n",
        "import zipfile as zf\n",
        "import os\n",
        "import random\n",
        "import cv2\n",
        "import imutils\n",
        "\n",
        "from sklearn.metrics import classification_report,confusion_matrix\n",
        "from sklearn import metrics\n",
        "from sklearn.preprocessing import LabelEncoder,LabelBinarizer\n",
        "from sklearn.model_selection import train_test_split\n",
        "from sklearn.ensemble import RandomForestClassifier,GradientBoostingClassifier,ExtraTreesClassifier\n",
        "from sklearn.linear_model import LogisticRegression\n",
        "from sklearn.neighbors import KNeighborsClassifier\n",
        "\n",
        "from skimage import feature\n",
        "\n",
        "from keras.utils import to_categorical\n",
        "from imutils import build_montages,paths\n",
        "\n",
        "sns.set()"
      ]
    },
    {
      "cell_type": "code",
      "execution_count": 2,
      "id": "d19c4d69",
      "metadata": {
        "colab": {
          "base_uri": "https://localhost:8080/",
          "height": 36
        },
        "id": "d19c4d69",
        "outputId": "77036eca-f82c-4349-b2aa-ca041dfead9c"
      },
      "outputs": [
        {
          "output_type": "execute_result",
          "data": {
            "text/plain": [
              "'/content'"
            ],
            "application/vnd.google.colaboratory.intrinsic+json": {
              "type": "string"
            }
          },
          "metadata": {},
          "execution_count": 2
        }
      ],
      "source": [
        "os.getcwd()"
      ]
    },
    {
      "cell_type": "markdown",
      "id": "5556e5cc",
      "metadata": {
        "id": "5556e5cc"
      },
      "source": [
        "# Load train data and test data"
      ]
    },
    {
      "cell_type": "code",
      "execution_count": 11,
      "id": "0bdd762c",
      "metadata": {
        "id": "0bdd762c"
      },
      "outputs": [],
      "source": [
        "wave_train_healthy = os.listdir('/content/wave/training/healthy/')\n",
        "wave_train_park = os.listdir('/content/wave/training/parkinson/')\n",
        "\n",
        "fp_wave_train_healthy = '/content/wave/training/healthy/'\n",
        "fp_wave_train_park = '/content/wave/training/parkinson/'\n",
        "\n",
        "wave_test_healthy = os.listdir('/content/wave/testing/healthy/')\n",
        "wave_test_park = os.listdir('/content/wave/testing/parkinson/')\n",
        "\n",
        "fp_wave_test_healthy = '/content/wave/testing/healthy/'\n",
        "fp_wave_test_park = '/content/wave/testing/parkinson/'"
      ]
    },
    {
      "cell_type": "markdown",
      "id": "b066a843",
      "metadata": {
        "id": "b066a843"
      },
      "source": [
        "# Quantifying images"
      ]
    },
    {
      "cell_type": "code",
      "execution_count": 12,
      "id": "e0b003b2",
      "metadata": {
        "id": "e0b003b2"
      },
      "outputs": [],
      "source": [
        "def quantify_image(image):\n",
        "  features = feature.hog(image,orientations=9,\n",
        "                pixels_per_cell=(10,10),cells_per_block=(2,2),transform_sqrt=True,block_norm=\"L1\")\n",
        "\n",
        "  return features"
      ]
    },
    {
      "cell_type": "markdown",
      "id": "a5a1e130",
      "metadata": {
        "id": "a5a1e130"
      },
      "source": [
        "# Preprocessing"
      ]
    },
    {
      "cell_type": "code",
      "execution_count": 13,
      "id": "22cdd6e9",
      "metadata": {
        "id": "22cdd6e9"
      },
      "outputs": [],
      "source": [
        "trainX = []\n",
        "testX = []\n",
        "outputs = []\n",
        "trainY = []\n",
        "testY = []\n",
        "\n",
        "for i in wave_train_healthy:\n",
        "  image = cv2.imread(fp_wave_train_healthy+i)\n",
        "  image = cv2.cvtColor(image , cv2.COLOR_BGR2GRAY)\n",
        "  image = cv2.resize(image , (200,200))\n",
        "  image =cv2.threshold(image, 0, 255,cv2.THRESH_BINARY_INV | cv2.THRESH_OTSU)[1]\n",
        "  features = quantify_image(image)\n",
        "  trainX.append(features)\n",
        "  trainY.append('healthy')\n",
        "\n",
        "for i in wave_train_park:\n",
        "  image = cv2.imread(fp_wave_train_park+i)\n",
        "  image = cv2.cvtColor(image , cv2.COLOR_BGR2GRAY)\n",
        "  image = cv2.resize(image , (200,200))\n",
        "  image = cv2.threshold(image ,0,255,cv2.THRESH_BINARY_INV | cv2.THRESH_OTSU)[1]\n",
        "  features = quantify_image(image)\n",
        "  trainX.append(features)\n",
        "  trainY.append('parkinson')\n",
        "\n",
        "for i in wave_test_healthy:\n",
        "  image = cv2.imread(fp_wave_test_healthy+i)\n",
        "  outputs.append(image)\n",
        "  image = cv2.cvtColor(image , cv2.COLOR_BGR2GRAY)\n",
        "  image = cv2.resize(image , (200,200))\n",
        "  image = cv2.threshold(image ,0,255,cv2.THRESH_BINARY_INV | cv2.THRESH_OTSU)[1]\n",
        "  features = quantify_image(image)\n",
        "  testX.append(features)\n",
        "  testY.append('healthy')\n",
        "\n",
        "for i in wave_test_park:\n",
        "  image = cv2.imread(fp_wave_test_park+i)\n",
        "  outputs.append(image)\n",
        "  image = cv2.cvtColor(image , cv2.COLOR_BGR2GRAY)\n",
        "  image = cv2.resize(image , (200,200))\n",
        "  image = cv2.threshold(image ,0,255,cv2.THRESH_BINARY_INV | cv2.THRESH_OTSU)[1]\n",
        "  features = quantify_image(image)\n",
        "  testX.append(features)\n",
        "  testY.append('parkinson')"
      ]
    },
    {
      "cell_type": "code",
      "execution_count": 6,
      "id": "ef1ef67d",
      "metadata": {
        "id": "ef1ef67d"
      },
      "outputs": [],
      "source": [
        "trainX = np.array(trainX)\n",
        "testX = np.array(testX)\n",
        "trainY = np.array(trainY)\n",
        "testY = np.array(testY)"
      ]
    },
    {
      "cell_type": "code",
      "execution_count": 14,
      "id": "4c6f7413",
      "metadata": {
        "colab": {
          "base_uri": "https://localhost:8080/"
        },
        "id": "4c6f7413",
        "outputId": "202b4b5e-75a3-49c0-fe96-08c074f83748"
      },
      "outputs": [
        {
          "output_type": "execute_result",
          "data": {
            "text/plain": [
              "[array([0., 0., 0., ..., 0., 0., 0.]),\n",
              " array([0.00926683, 0.        , 0.        , ..., 0.        , 0.        ,\n",
              "        0.        ]),\n",
              " array([0.14307837, 0.        , 0.05058584, ..., 0.06548872, 0.        ,\n",
              "        0.        ]),\n",
              " array([0., 0., 0., ..., 0., 0., 0.]),\n",
              " array([0.06109876, 0.        , 0.20984484, ..., 0.        , 0.        ,\n",
              "        0.        ]),\n",
              " array([0., 0., 0., ..., 0., 0., 0.]),\n",
              " array([0., 0., 0., ..., 0., 0., 0.]),\n",
              " array([0., 0., 0., ..., 0., 0., 0.]),\n",
              " array([0., 0., 0., ..., 0., 0., 0.]),\n",
              " array([0., 0., 0., ..., 0., 0., 0.]),\n",
              " array([0., 0., 0., ..., 0., 0., 0.]),\n",
              " array([0.        , 0.        , 0.        , ..., 0.18664652, 0.        ,\n",
              "        0.        ]),\n",
              " array([0., 0., 0., ..., 0., 0., 0.]),\n",
              " array([0., 0., 0., ..., 0., 0., 0.]),\n",
              " array([0., 0., 0., ..., 0., 0., 0.]),\n",
              " array([0., 0., 0., ..., 0., 0., 0.]),\n",
              " array([0., 0., 0., ..., 0., 0., 0.]),\n",
              " array([0.02370921, 0.        , 0.10058967, ..., 0.        , 0.        ,\n",
              "        0.        ]),\n",
              " array([0., 0., 0., ..., 0., 0., 0.]),\n",
              " array([0.03251709, 0.        , 0.01149653, ..., 0.        , 0.        ,\n",
              "        0.        ]),\n",
              " array([0., 0., 0., ..., 0., 0., 0.]),\n",
              " array([0., 0., 0., ..., 0., 0., 0.]),\n",
              " array([0., 0., 0., ..., 0., 0., 0.]),\n",
              " array([0., 0., 0., ..., 0., 0., 0.]),\n",
              " array([0.01763715, 0.        , 0.        , ..., 0.        , 0.        ,\n",
              "        0.        ]),\n",
              " array([0., 0., 0., ..., 0., 0., 0.]),\n",
              " array([0., 0., 0., ..., 0., 0., 0.]),\n",
              " array([0.08888459, 0.        , 0.18156926, ..., 0.        , 0.        ,\n",
              "        0.        ]),\n",
              " array([0., 0., 0., ..., 0., 0., 0.]),\n",
              " array([0., 0., 0., ..., 0., 0., 0.]),\n",
              " array([0., 0., 0., ..., 0., 0., 0.]),\n",
              " array([0., 0., 0., ..., 0., 0., 0.]),\n",
              " array([0., 0., 0., ..., 0., 0., 0.]),\n",
              " array([0., 0., 0., ..., 0., 0., 0.]),\n",
              " array([0.66665275, 0.        , 0.        , ..., 0.        , 0.        ,\n",
              "        0.        ]),\n",
              " array([0., 0., 0., ..., 0., 0., 0.]),\n",
              " array([0., 0., 0., ..., 0., 0., 0.]),\n",
              " array([0., 0., 0., ..., 0., 0., 0.]),\n",
              " array([0., 0., 0., ..., 0., 0., 0.]),\n",
              " array([0., 0., 0., ..., 0., 0., 0.]),\n",
              " array([0., 0., 0., ..., 0., 0., 0.]),\n",
              " array([0.        , 0.        , 0.        , ..., 0.08451229, 0.        ,\n",
              "        0.        ]),\n",
              " array([0., 0., 0., ..., 0., 0., 0.]),\n",
              " array([0., 0., 0., ..., 0., 0., 0.]),\n",
              " array([0.24999804, 0.        , 0.        , ..., 0.        , 0.        ,\n",
              "        0.        ]),\n",
              " array([0., 0., 0., ..., 0., 0., 0.]),\n",
              " array([0.        , 0.        , 0.        , ..., 0.01696008, 0.        ,\n",
              "        0.        ]),\n",
              " array([0.01571135, 0.        , 0.06665761, ..., 0.        , 0.        ,\n",
              "        0.        ]),\n",
              " array([0., 0., 0., ..., 0., 0., 0.]),\n",
              " array([0., 0., 0., ..., 0., 0., 0.]),\n",
              " array([0.12675901, 0.        , 0.07381472, ..., 0.        , 0.        ,\n",
              "        0.        ]),\n",
              " array([0., 0., 0., ..., 0., 0., 0.]),\n",
              " array([0., 0., 0., ..., 0., 0., 0.]),\n",
              " array([0., 0., 0., ..., 0., 0., 0.]),\n",
              " array([0., 0., 0., ..., 0., 0., 0.]),\n",
              " array([0., 0., 0., ..., 0., 0., 0.]),\n",
              " array([0., 0., 0., ..., 0., 0., 0.]),\n",
              " array([0., 0., 0., ..., 0., 0., 0.]),\n",
              " array([0., 0., 0., ..., 0., 0., 0.]),\n",
              " array([0., 0., 0., ..., 0., 0., 0.]),\n",
              " array([0.        , 0.        , 0.        , ..., 0.13692418, 0.        ,\n",
              "        0.        ]),\n",
              " array([0., 0., 0., ..., 0., 0., 0.]),\n",
              " array([0., 0., 0., ..., 0., 0., 0.]),\n",
              " array([0., 0., 0., ..., 0., 0., 0.]),\n",
              " array([0., 0., 0., ..., 0., 0., 0.]),\n",
              " array([0., 0., 0., ..., 0., 0., 0.]),\n",
              " array([0., 0., 0., ..., 0., 0., 0.]),\n",
              " array([0., 0., 0., ..., 0., 0., 0.]),\n",
              " array([0.05637695, 0.        , 0.0531527 , ..., 0.        , 0.        ,\n",
              "        0.        ]),\n",
              " array([0., 0., 0., ..., 0., 0., 0.]),\n",
              " array([0., 0., 0., ..., 0., 0., 0.]),\n",
              " array([0., 0., 0., ..., 0., 0., 0.])]"
            ]
          },
          "metadata": {},
          "execution_count": 14
        }
      ],
      "source": [
        "trainX"
      ]
    },
    {
      "cell_type": "code",
      "execution_count": 15,
      "id": "ed50a45e",
      "metadata": {
        "colab": {
          "base_uri": "https://localhost:8080/"
        },
        "id": "ed50a45e",
        "outputId": "08fee328-06d0-4ea3-83e7-c5a3b0ba4741"
      },
      "outputs": [
        {
          "output_type": "execute_result",
          "data": {
            "text/plain": [
              "[array([0.01075467, 0.        , 0.01520941, ..., 0.        , 0.        ,\n",
              "        0.        ]),\n",
              " array([0., 0., 0., ..., 0., 0., 0.]),\n",
              " array([0.09201623, 0.        , 0.03253265, ..., 0.        , 0.        ,\n",
              "        0.        ]),\n",
              " array([0., 0., 0., ..., 0., 0., 0.]),\n",
              " array([0., 0., 0., ..., 0., 0., 0.]),\n",
              " array([0., 0., 0., ..., 0., 0., 0.]),\n",
              " array([0., 0., 0., ..., 0., 0., 0.]),\n",
              " array([0., 0., 0., ..., 0., 0., 0.]),\n",
              " array([0., 0., 0., ..., 0., 0., 0.]),\n",
              " array([0., 0., 0., ..., 0., 0., 0.]),\n",
              " array([0., 0., 0., ..., 0., 0., 0.]),\n",
              " array([0., 0., 0., ..., 0., 0., 0.]),\n",
              " array([0., 0., 0., ..., 0., 0., 0.]),\n",
              " array([0., 0., 0., ..., 0., 0., 0.]),\n",
              " array([0., 0., 0., ..., 0., 0., 0.]),\n",
              " array([0., 0., 0., ..., 0., 0., 0.]),\n",
              " array([0., 0., 0., ..., 0., 0., 0.]),\n",
              " array([0., 0., 0., ..., 0., 0., 0.]),\n",
              " array([0., 0., 0., ..., 0., 0., 0.]),\n",
              " array([0., 0., 0., ..., 0., 0., 0.]),\n",
              " array([0., 0., 0., ..., 0., 0., 0.]),\n",
              " array([0., 0., 0., ..., 0., 0., 0.]),\n",
              " array([0., 0., 0., ..., 0., 0., 0.]),\n",
              " array([0., 0., 0., ..., 0., 0., 0.]),\n",
              " array([0., 0., 0., ..., 0., 0., 0.]),\n",
              " array([0., 0., 0., ..., 0., 0., 0.]),\n",
              " array([0., 0., 0., ..., 0., 0., 0.]),\n",
              " array([0., 0., 0., ..., 0., 0., 0.]),\n",
              " array([0., 0., 0., ..., 0., 0., 0.]),\n",
              " array([0., 0., 0., ..., 0., 0., 0.])]"
            ]
          },
          "metadata": {},
          "execution_count": 15
        }
      ],
      "source": [
        "testX"
      ]
    },
    {
      "cell_type": "code",
      "execution_count": 16,
      "id": "edc896d2",
      "metadata": {
        "colab": {
          "base_uri": "https://localhost:8080/"
        },
        "id": "edc896d2",
        "outputId": "33e95f16-bb87-42f9-9c41-619c5d03f945"
      },
      "outputs": [
        {
          "output_type": "execute_result",
          "data": {
            "text/plain": [
              "['healthy',\n",
              " 'healthy',\n",
              " 'healthy',\n",
              " 'healthy',\n",
              " 'healthy',\n",
              " 'healthy',\n",
              " 'healthy',\n",
              " 'healthy',\n",
              " 'healthy',\n",
              " 'healthy',\n",
              " 'healthy',\n",
              " 'healthy',\n",
              " 'healthy',\n",
              " 'healthy',\n",
              " 'healthy',\n",
              " 'healthy',\n",
              " 'healthy',\n",
              " 'healthy',\n",
              " 'healthy',\n",
              " 'healthy',\n",
              " 'healthy',\n",
              " 'healthy',\n",
              " 'healthy',\n",
              " 'healthy',\n",
              " 'healthy',\n",
              " 'healthy',\n",
              " 'healthy',\n",
              " 'healthy',\n",
              " 'healthy',\n",
              " 'healthy',\n",
              " 'healthy',\n",
              " 'healthy',\n",
              " 'healthy',\n",
              " 'healthy',\n",
              " 'healthy',\n",
              " 'healthy',\n",
              " 'parkinson',\n",
              " 'parkinson',\n",
              " 'parkinson',\n",
              " 'parkinson',\n",
              " 'parkinson',\n",
              " 'parkinson',\n",
              " 'parkinson',\n",
              " 'parkinson',\n",
              " 'parkinson',\n",
              " 'parkinson',\n",
              " 'parkinson',\n",
              " 'parkinson',\n",
              " 'parkinson',\n",
              " 'parkinson',\n",
              " 'parkinson',\n",
              " 'parkinson',\n",
              " 'parkinson',\n",
              " 'parkinson',\n",
              " 'parkinson',\n",
              " 'parkinson',\n",
              " 'parkinson',\n",
              " 'parkinson',\n",
              " 'parkinson',\n",
              " 'parkinson',\n",
              " 'parkinson',\n",
              " 'parkinson',\n",
              " 'parkinson',\n",
              " 'parkinson',\n",
              " 'parkinson',\n",
              " 'parkinson',\n",
              " 'parkinson',\n",
              " 'parkinson',\n",
              " 'parkinson',\n",
              " 'parkinson',\n",
              " 'parkinson',\n",
              " 'parkinson']"
            ]
          },
          "metadata": {},
          "execution_count": 16
        }
      ],
      "source": [
        "trainY"
      ]
    },
    {
      "cell_type": "code",
      "execution_count": 17,
      "id": "d6951f4e",
      "metadata": {
        "colab": {
          "base_uri": "https://localhost:8080/"
        },
        "id": "d6951f4e",
        "outputId": "377aadf5-6944-436a-ce12-6a170971e0d2"
      },
      "outputs": [
        {
          "output_type": "execute_result",
          "data": {
            "text/plain": [
              "['healthy',\n",
              " 'healthy',\n",
              " 'healthy',\n",
              " 'healthy',\n",
              " 'healthy',\n",
              " 'healthy',\n",
              " 'healthy',\n",
              " 'healthy',\n",
              " 'healthy',\n",
              " 'healthy',\n",
              " 'healthy',\n",
              " 'healthy',\n",
              " 'healthy',\n",
              " 'healthy',\n",
              " 'healthy',\n",
              " 'parkinson',\n",
              " 'parkinson',\n",
              " 'parkinson',\n",
              " 'parkinson',\n",
              " 'parkinson',\n",
              " 'parkinson',\n",
              " 'parkinson',\n",
              " 'parkinson',\n",
              " 'parkinson',\n",
              " 'parkinson',\n",
              " 'parkinson',\n",
              " 'parkinson',\n",
              " 'parkinson',\n",
              " 'parkinson',\n",
              " 'parkinson']"
            ]
          },
          "metadata": {},
          "execution_count": 17
        }
      ],
      "source": [
        "testY"
      ]
    },
    {
      "cell_type": "markdown",
      "id": "0d2d4d43",
      "metadata": {
        "id": "0d2d4d43"
      },
      "source": [
        "# Label encoding"
      ]
    },
    {
      "cell_type": "code",
      "execution_count": 18,
      "id": "63fdf051",
      "metadata": {
        "id": "63fdf051"
      },
      "outputs": [],
      "source": [
        "le = LabelEncoder()"
      ]
    },
    {
      "cell_type": "code",
      "execution_count": 19,
      "id": "99876ede",
      "metadata": {
        "id": "99876ede"
      },
      "outputs": [],
      "source": [
        "trainY = le.fit_transform(trainY)\n",
        "testY = le.transform(testY)"
      ]
    },
    {
      "cell_type": "code",
      "execution_count": 20,
      "id": "7f8b1051",
      "metadata": {
        "colab": {
          "base_uri": "https://localhost:8080/"
        },
        "id": "7f8b1051",
        "outputId": "0a57a7e5-d787-48dd-9fe6-0d485f7dabe8"
      },
      "outputs": [
        {
          "output_type": "execute_result",
          "data": {
            "text/plain": [
              "array([0, 0, 0, 0, 0, 0, 0, 0, 0, 0, 0, 0, 0, 0, 0, 0, 0, 0, 0, 0, 0, 0,\n",
              "       0, 0, 0, 0, 0, 0, 0, 0, 0, 0, 0, 0, 0, 0, 1, 1, 1, 1, 1, 1, 1, 1,\n",
              "       1, 1, 1, 1, 1, 1, 1, 1, 1, 1, 1, 1, 1, 1, 1, 1, 1, 1, 1, 1, 1, 1,\n",
              "       1, 1, 1, 1, 1, 1])"
            ]
          },
          "metadata": {},
          "execution_count": 20
        }
      ],
      "source": [
        "trainY"
      ]
    },
    {
      "cell_type": "code",
      "execution_count": 21,
      "id": "6a914318",
      "metadata": {
        "colab": {
          "base_uri": "https://localhost:8080/"
        },
        "id": "6a914318",
        "outputId": "bbc377bd-6724-477e-fc29-e677b0f5392b"
      },
      "outputs": [
        {
          "output_type": "execute_result",
          "data": {
            "text/plain": [
              "array([0, 0, 0, 0, 0, 0, 0, 0, 0, 0, 0, 0, 0, 0, 0, 1, 1, 1, 1, 1, 1, 1,\n",
              "       1, 1, 1, 1, 1, 1, 1, 1])"
            ]
          },
          "metadata": {},
          "execution_count": 21
        }
      ],
      "source": [
        "testY"
      ]
    }
  ],
  "metadata": {
    "kernelspec": {
      "display_name": "Python 3 (ipykernel)",
      "language": "python",
      "name": "python3"
    },
    "language_info": {
      "codemirror_mode": {
        "name": "ipython",
        "version": 3
      },
      "file_extension": ".py",
      "mimetype": "text/x-python",
      "name": "python",
      "nbconvert_exporter": "python",
      "pygments_lexer": "ipython3",
      "version": "3.9.13"
    },
    "colab": {
      "provenance": []
    }
  },
  "nbformat": 4,
  "nbformat_minor": 5
}